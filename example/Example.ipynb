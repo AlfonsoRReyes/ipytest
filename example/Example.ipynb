{
 "cells": [
  {
   "cell_type": "code",
   "execution_count": 1,
   "metadata": {
    "collapsed": true
   },
   "outputs": [],
   "source": [
    "from __future__ import print_function, division, absolute_import"
   ]
  },
  {
   "cell_type": "code",
   "execution_count": 2,
   "metadata": {
    "collapsed": true
   },
   "outputs": [],
   "source": [
    "import ipytest"
   ]
  },
  {
   "cell_type": "code",
   "execution_count": 3,
   "metadata": {
    "collapsed": true
   },
   "outputs": [],
   "source": [
    "def fibonacci(i):\n",
    "    \"\"\"Compute the fibonacci sequence.\n",
    "    \n",
    "    >>> [fibonacci(n) for n in range(7)]\n",
    "    [1, 1, 2, 3, 5, 8, 13]\n",
    "    \n",
    "    \"\"\"\n",
    "    if i == 0 or i == 1:\n",
    "        return 1\n",
    "    return fibonacci(i - 1) + fibonacci(i - 2)"
   ]
  },
  {
   "cell_type": "code",
   "execution_count": 4,
   "metadata": {
    "collapsed": false
   },
   "outputs": [
    {
     "name": "stderr",
     "output_type": "stream",
     "text": [
      "unittest.case.FunctionTestCase (test_fibonacci_0) ... ok\n",
      "unittest.case.FunctionTestCase (test_fibonacci_1) ... ok\n",
      "unittest.case.FunctionTestCase (test_fibonacci_2) ... ok\n",
      "unittest.case.FunctionTestCase (test_fibonacci_3) ... ok\n",
      "unittest.case.FunctionTestCase (test_fibonacci_4) ... ok\n",
      "unittest.case.FunctionTestCase (test_fibonacci_5) ... ok\n",
      "unittest.case.FunctionTestCase (test_fibonacci_6) ... ok\n",
      "runTest (ipytest._DocTestCase) ... ok\n",
      "\n",
      "----------------------------------------------------------------------\n",
      "Ran 8 tests in 0.085s\n",
      "\n",
      "OK\n"
     ]
    }
   ],
   "source": [
    "ipytest.clean_tests(\"test_fibonacci*\")\n",
    "\n",
    "def test_fibonacci_0():\n",
    "    assert fibonacci(0) == 1\n",
    "\n",
    "def test_fibonacci_1():\n",
    "    assert fibonacci(1) == 1\n",
    "\n",
    "def test_fibonacci_2():\n",
    "    assert fibonacci(2) == 2\n",
    "    \n",
    "def test_fibonacci_3():\n",
    "    assert fibonacci(3) == 3\n",
    "    \n",
    "def test_fibonacci_4():\n",
    "    assert fibonacci(4) == 5\n",
    "\n",
    "def test_fibonacci_5():\n",
    "    assert fibonacci(5) == 8\n",
    "    \n",
    "def test_fibonacci_6():\n",
    "    assert fibonacci(6) == 13\n",
    "    \n",
    "ipytest.run_tests(doctest=True)"
   ]
  },
  {
   "cell_type": "code",
   "execution_count": null,
   "metadata": {
    "collapsed": true
   },
   "outputs": [],
   "source": []
  }
 ],
 "metadata": {
  "kernelspec": {
   "display_name": "Python 2",
   "language": "python",
   "name": "python2"
  },
  "language_info": {
   "codemirror_mode": {
    "name": "ipython",
    "version": 2
   },
   "file_extension": ".py",
   "mimetype": "text/x-python",
   "name": "python",
   "nbconvert_exporter": "python",
   "pygments_lexer": "ipython2",
   "version": "2.7.10"
  }
 },
 "nbformat": 4,
 "nbformat_minor": 0
}
